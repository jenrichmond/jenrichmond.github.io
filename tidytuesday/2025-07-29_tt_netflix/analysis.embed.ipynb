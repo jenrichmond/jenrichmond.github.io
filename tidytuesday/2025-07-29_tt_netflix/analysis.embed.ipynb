{
  "cells": [
    {
      "cell_type": "markdown",
      "metadata": {},
      "source": [
        "# netflix_analysis"
      ],
      "id": "b85815f4-2b22-4028-995e-26d70311d7ee"
    }
  ],
  "nbformat": 4,
  "nbformat_minor": 5,
  "metadata": {
    "kernelspec": {
      "display_name": "Python 3",
      "language": "python",
      "name": "python3"
    }
  }
}